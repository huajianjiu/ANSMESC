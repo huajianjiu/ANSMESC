{
 "cells": [
  {
   "cell_type": "code",
   "execution_count": null,
   "metadata": {},
   "outputs": [],
   "source": [
    "import pickle\n",
    "import os\n",
    "import keras\n",
    "import sklearn\n",
    "import numpy as np\n",
    "from keras import backend as K\n",
    "from keras.callbacks import ReduceLROnPlateau, EarlyStopping, CSVLogger, ModelCheckpoint, TensorBoard\n",
    "from sklearn.model_selection import KFold\n",
    "from cnn_with_idc import build_model\n",
    "\n",
    "\n",
    "# 指定第一块GPU可用 \n",
    "os.environ[\"CUDA_VISIBLE_DEVICES\"] = \"0\"\n"
   ]
  },
  {
   "cell_type": "code",
   "execution_count": null,
   "metadata": {},
   "outputs": [],
   "source": [
    "MAX_SENTENCE_LENGTH = 500\n",
    "MAX_WORD_LENGTH = 4\n",
    "COMP_WIDTH = 3\n",
    "CHAR_EMB_DIM = 15\n",
    "BATCH_SIZE = 64\n",
    "VERBOSE = 1\n",
    "EPOCHS = 40"
   ]
  },
  {
   "cell_type": "code",
   "execution_count": null,
   "metadata": {},
   "outputs": [],
   "source": [
    "with open('RakutenSubset4exp.pickle', 'rb') as f:\n",
    "    x_sip_train, x_sip_validation, x_sip_test_normal, x_sip_test_unk_w, x_sip_test_unk_c, y_train, y_validation, y_test_normal, y_test_unk_w, y_test_unk_c = pickle.load(f)"
   ]
  },
  {
   "cell_type": "code",
   "execution_count": null,
   "metadata": {},
   "outputs": [],
   "source": [
    "def train_model(model, x_train, y_train, x_val, y_val, model_name, early_stop=False, path=\"\", epochs=EPOCHS, batch_size=BATCH_SIZE, verbose=VERBOSE):\n",
    "    reducelr = ReduceLROnPlateau(monitor='val_loss', factor=0.1, patience=5, verbose=VERBOSE, mode='auto', min_delta=0.0001, cooldown=0, min_lr=0)\n",
    "    if early_stop:\n",
    "        stopper = EarlyStopping(monitor='val_loss', patience=10)\n",
    "    checkpoint_loss = ModelCheckpoint(filepath=path + \"checkpoints/\" + model_name + \"_loss.hdf5\",\n",
    "                                      monitor=\"val_loss\",\n",
    "                                      verbose=verbose, save_best_only=False, mode=\"min\")\n",
    "    opt = keras.optimizers.RMSprop(lr=0.001, rho=0.9, epsilon=None, decay=0.0)\n",
    "    print(\"compling...\")\n",
    "    model.compile(loss=\"categorical_crossentropy\", optimizer=opt, metrics=['categorical_crossentropy', \"acc\"], )\n",
    "    print(\"fitting...\")\n",
    "    if early_stop:\n",
    "        result = model.fit(x_train, y_train, validation_data=(x_val, y_val), verbose=verbose,\n",
    "                           epochs=epochs, batch_size=batch_size, callbacks=[reducelr, stopper, checkpoint_loss])\n",
    "    else:\n",
    "        result = model.fit(x_train, y_train, validation_data=(x_val, y_val), verbose=verbose,\n",
    "                           epochs=epochs, batch_size=batch_size, callbacks=[reducelr, checkpoint_loss])\n",
    "    return result"
   ]
  },
  {
   "cell_type": "code",
   "execution_count": null,
   "metadata": {},
   "outputs": [],
   "source": [
    "print(x_sip_train)"
   ]
  },
  {
   "cell_type": "code",
   "execution_count": null,
   "metadata": {},
   "outputs": [],
   "source": [
    "def max_from_category(y):\n",
    "    y_true = numpy.zeros(y.shape[0], dtype=numpy.int)\n",
    "    for i, v in enumerate(y):\n",
    "        y_true[i] = numpy.argmax(v)\n",
    "    return y_true\n",
    "\n",
    "def test_model(model, x_test, y_test):\n",
    "    print(\"testing...\")\n",
    "    y_true = max_from_category(y_test)\n",
    "    y_pred = model.predict(x_test, verbose=0)\n",
    "    y_pred = max_from_category(y_pred)\n",
    "    print(sklearn.metrics.classification_report(y_true, y_pred, digits=4))"
   ]
  },
  {
   "cell_type": "code",
   "execution_count": null,
   "metadata": {},
   "outputs": [],
   "source": [
    "kf = KFold(n_splits=5)\n",
    "X = x_sip_train\n",
    "y = y_train\n",
    "for n, (train_index, test_index) in enumerate(kf.split(X)):\n",
    "    print(f'****************Iteration {n}********************')\n",
    "    X_train, X_test = X[train_index], X[test_index]\n",
    "    y_train, y_test = y[train_index], y[test_index]\n",
    "    model_name = f\"Radical-CNN-RNN_HARC_POS_ADD_RIDGE_BN_RMSPROP0_CROSS{n}\"\n",
    "    K.clear_session()\n",
    "    # using the vocab size of the example data\n",
    "    model = build_model(radical_vocab_size=2487, char_vocab_size=21294,\n",
    "                        max_sentence_length=MAX_SENTENCE_LENGTH, max_word_length=MAX_WORD_LENGTH,\n",
    "                        comp_width=COMP_WIDTH, char_emb_dim=CHAR_EMB_DIM, classes=2,\n",
    "                        char_shape=True, word=False, char=False,\n",
    "                        cnn_encoder=True, highway=\"relu\", nohighway=\"linear\",\n",
    "                        attention=True, shape_filter=True, char_filter=True, position=True)\n",
    "    train_model(model, X_train, y_train, X_test, y_test, model_name, path=\"unk_exp_+pos/\")\n",
    "    test_model(model, X_test, y_test)"
   ]
  }
 ],
 "metadata": {
  "kernelspec": {
   "display_name": "Python (keras2.1.6)",
   "language": "python",
   "name": "keras2.1.6"
  },
  "language_info": {
   "codemirror_mode": {
    "name": "ipython",
    "version": 3
   },
   "file_extension": ".py",
   "mimetype": "text/x-python",
   "name": "python",
   "nbconvert_exporter": "python",
   "pygments_lexer": "ipython3",
   "version": "3.6.9"
  }
 },
 "nbformat": 4,
 "nbformat_minor": 2
}
